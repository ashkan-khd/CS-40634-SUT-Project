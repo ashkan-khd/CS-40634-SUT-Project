{
 "cells": [
  {
   "cell_type": "markdown",
   "source": [
    "<div dir=\"rtl\">\n",
    "داکیومنتیشن کد:\n",
    "<ul>\n",
    "<li>\n",
    "ماژول\n",
    "<code>packet</code>:\n",
    "این ماژول کلاس <code>packet</code> را پیاده می‌کند که تنها وظیفه نگه‌داری جزئیات یک <code>packet</code> مثل زمان ورود، اولویت و ... است.\n",
    "</li>\n",
    "<li>\n",
    "ماژول <code>customqueue</code>: در این ماژول کلاس‌های انواع صف‌ها پیاده شده‌است که به شرح زیرند:\n",
    "    <ul>\n",
    "    <li><code>AbstractQueue</code>: کلاس پایه برای صف‌ها</li>\n",
    "    <li><code>FIFOQueue</code>: کلاس یک صف عادی FIFO. برای پیاده‌سازی این کلاس از یک <code>deque</code> استفاده می‌کنیم و تسک‌ها را به ترتیب اضافه شدن در آن می‌ریزیم و برای <code>pop</code> از ابتدای این <code>deque</code> برمیداریم.</li>\n",
    "    <li><code>WRRQueue</code>: این کلاس برای پیاده‌سازی Weighted Round Robin می‌باشد. در آن ۳ صف <code>FIFOQueue</code> و وزن‌های هرکدام را نگه می‌داریم و در زمان اضافه‌شدن با توجه به اولویت پکت، در صف متناظرش آن را اضافه می‌کنیم. در زمان <code>pop</code> با توجه به وزن‌ها به ترتیب از هر صف <code>pop</code> می‌کنیم.</li>\n",
    "    <li><code>NPPSQueue</code>: در این کلاس صف اولویت‌دار را پیاده می‌کنیم. یک لیست نگه می‌داریم که در آن پکت‌ها به ترتیب اولویت نزولی هستند. در زمان اضافه شدن این ترتیب را حفظ می‌کنیم و در زمان <code>pop</code> از ابتدای این لیست برمی‌داریم.</li>\n",
    "    </ul>\n",
    "</li>\n",
    "<li>\n",
    "ماژول <code>scheduler</code>: این ماژول کلاس اصلی <code>Scheduler</code> را پیاده می‌کند. این کلاس متغیرهای سیستم را ورودی می‌گیرد و سپس شبیه‌سازی را انجام می‌دهد. در این ماژول همچنین دو کلاس <code>Event</code و <code>EventSet</code> نیز پیاده شده‌اند که کلاس اول نشان‌دهنده یک اتفاق (ورود به سیستم، خروج از سیستم) برای یک پکت است و کلاس دوم وظیفه مرتب نگه‌داشتن تمام <code>Event</code> را دارد. در <code>Scheduler</code>، <code>Event</code>ها ساخته می‌شوند و در <code>EventSet</code> ریخته می‌شوند تا فرآیند شبیه‌سازی انجام گیرد.\n",
    "</li>\n",
    "</ul>\n",
    "</div>"
   ],
   "metadata": {
    "collapsed": false
   }
  },
  {
   "cell_type": "code",
   "execution_count": 50,
   "outputs": [
    {
     "name": "stdout",
     "output_type": "stream",
     "text": [
      "The autoreload extension is already loaded. To reload it, use:\n",
      "  %reload_ext autoreload\n"
     ]
    }
   ],
   "source": [
    "%load_ext autoreload\n",
    "%autoreload 2"
   ],
   "metadata": {
    "collapsed": false,
    "ExecuteTime": {
     "end_time": "2023-06-29T17:24:13.571509335Z",
     "start_time": "2023-06-29T17:24:13.528508846Z"
    }
   }
  },
  {
   "cell_type": "code",
   "execution_count": 51,
   "outputs": [],
   "source": [
    "from customqueue import WRRQueue, FIFOQueue, NPPSQueue\n",
    "from scheduler import Scheduler\n",
    "\n",
    "X = 2\n",
    "Y = 1.5\n",
    "T = 30\n",
    "PROCESSORS = 1\n",
    "LENGTH_LIMIT = [10, 15, 11]  # first is for lowest priority queue\n",
    "WRR_WEIGHTS = [1, 2, 3]  # first is for lowest priority queue\n",
    "PRIORITY_PROBS = [0.5, 0.3, 0.2]"
   ],
   "metadata": {
    "collapsed": false,
    "ExecuteTime": {
     "end_time": "2023-06-29T17:24:13.571971316Z",
     "start_time": "2023-06-29T17:24:13.571249425Z"
    }
   }
  },
  {
   "cell_type": "code",
   "execution_count": 52,
   "outputs": [
    {
     "data": {
      "text/plain": "[1.6733343565133385,\n 5.757132016254993,\n 6.4760752275199716,\n 4.6551758758210475,\n None,\n 8.781464207180957,\n 10.01747245717709,\n None,\n None,\n None,\n None,\n 15.627386895135196,\n 16.05513828873515,\n 16.620256622334836,\n None,\n None,\n 17.943713537087994,\n None,\n 19.893966239939573,\n 19.921273562351587,\n 19.95488301623525,\n 22.737323034952166,\n None,\n None,\n 23.246395937396358,\n None,\n None,\n 24.730275477296406,\n None,\n 25.346355846198207,\n None,\n None,\n None,\n 25.750516299029975,\n None,\n None,\n None,\n None,\n 27.066380484786063,\n None,\n 30.08927623736067,\n None,\n None,\n None,\n None,\n None,\n None,\n None,\n None,\n None,\n None,\n None,\n None,\n None,\n None,\n None]"
     },
     "execution_count": 52,
     "metadata": {},
     "output_type": "execute_result"
    }
   ],
   "source": [
    "scheduler = Scheduler(\n",
    "    queue=WRRQueue(\n",
    "        queues=[FIFOQueue(l) for l in LENGTH_LIMIT],\n",
    "        weights=WRR_WEIGHTS,\n",
    "    ),\n",
    "    x=X,\n",
    "    y=Y,\n",
    "    t=T,\n",
    "    processors=PROCESSORS,\n",
    "    priority_probs=PRIORITY_PROBS,\n",
    ")\n",
    "scheduler.run()\n",
    "\n",
    "# len(scheduler.all_packets)\n",
    "[packet.end_time if packet.has_ran else None for packet in scheduler.all_packets]"
   ],
   "metadata": {
    "collapsed": false,
    "ExecuteTime": {
     "end_time": "2023-06-29T17:24:13.572491186Z",
     "start_time": "2023-06-29T17:24:13.571834962Z"
    }
   }
  },
  {
   "cell_type": "code",
   "execution_count": 53,
   "outputs": [
    {
     "data": {
      "text/plain": "[2.3535685129868664,\n 5.312571559709081,\n 8.013628349942543,\n 8.992592859010069,\n 9.981866291716063,\n 12.489783240710196,\n 15.68975720221432,\n 17.11446512246443,\n 17.54562462334547,\n 19.45291543181648,\n 21.393956116223812,\n 22.39418109977994,\n None,\n None,\n None,\n None,\n None,\n None,\n 23.03413228104116,\n None,\n None,\n None,\n None,\n None,\n 23.397463547935295,\n None,\n None,\n None,\n 24.145582998829642,\n None,\n 25.49883117455203,\n None,\n None,\n 29.184970522628955,\n None,\n None,\n None,\n None,\n 30.25875628610278,\n None,\n None,\n None,\n None,\n None,\n None,\n None,\n None,\n None,\n None,\n None,\n None,\n None,\n None,\n None,\n None,\n None,\n None,\n None,\n None,\n None,\n None,\n None,\n None,\n None,\n None,\n None,\n None,\n None,\n None,\n None,\n None,\n None,\n None]"
     },
     "execution_count": 53,
     "metadata": {},
     "output_type": "execute_result"
    }
   ],
   "source": [
    "scheduler = Scheduler(\n",
    "    queue=FIFOQueue(length_limit=LENGTH_LIMIT[0]),\n",
    "    x=X,\n",
    "    y=Y,\n",
    "    t=T,\n",
    "    processors=PROCESSORS,\n",
    "    priority_probs=PRIORITY_PROBS,\n",
    ")\n",
    "scheduler.run()\n",
    "\n",
    "# len(scheduler.all_packets)\n",
    "[packet.end_time if packet.has_ran else None for packet in scheduler.all_packets]"
   ],
   "metadata": {
    "collapsed": false,
    "ExecuteTime": {
     "end_time": "2023-06-29T17:24:13.575107704Z",
     "start_time": "2023-06-29T17:24:13.572133703Z"
    }
   }
  },
  {
   "cell_type": "code",
   "execution_count": 54,
   "outputs": [
    {
     "data": {
      "text/plain": "[0.652580933858086,\n 2.5445017301235464,\n 4.525121301157209,\n 9.6317595251562,\n 10.85953100661055,\n 5.899013606038778,\n 7.2587102201555975,\n 7.483590916123569,\n 20.00781825687914,\n 8.133362242292854,\n 23.89375126927599,\n 7.015658614148824,\n 29.671019126060152,\n None,\n 10.306564520352829,\n None,\n None,\n None,\n 18.076484179212017,\n 18.181843079691486,\n None,\n None,\n None,\n None,\n None,\n None,\n None,\n None,\n None,\n None,\n None,\n None,\n None,\n 21.240631991687355,\n None,\n None,\n None,\n None,\n None,\n None,\n 21.3743615962717,\n None,\n None,\n 29.372703672937376,\n None,\n None,\n None,\n None,\n None,\n None,\n None,\n None,\n None,\n None,\n None,\n None,\n None,\n None,\n 32.346356706161075,\n None]"
     },
     "execution_count": 54,
     "metadata": {},
     "output_type": "execute_result"
    }
   ],
   "source": [
    "scheduler = Scheduler(\n",
    "    queue=NPPSQueue(length_limit=LENGTH_LIMIT[0]),\n",
    "    x=X,\n",
    "    y=Y,\n",
    "    t=T,\n",
    "    processors=PROCESSORS,\n",
    "    priority_probs=PRIORITY_PROBS,\n",
    ")\n",
    "scheduler.run()\n",
    "\n",
    "# len(scheduler.all_packets)\n",
    "[packet.end_time if packet.has_ran else None for packet in scheduler.all_packets]"
   ],
   "metadata": {
    "collapsed": false,
    "ExecuteTime": {
     "end_time": "2023-06-29T17:24:13.587976041Z",
     "start_time": "2023-06-29T17:24:13.578363840Z"
    }
   }
  },
  {
   "cell_type": "code",
   "execution_count": 54,
   "outputs": [],
   "source": [],
   "metadata": {
    "collapsed": false,
    "ExecuteTime": {
     "end_time": "2023-06-29T17:24:13.631135625Z",
     "start_time": "2023-06-29T17:24:13.589895072Z"
    }
   }
  }
 ],
 "metadata": {
  "kernelspec": {
   "display_name": "Python 3",
   "language": "python",
   "name": "python3"
  },
  "language_info": {
   "codemirror_mode": {
    "name": "ipython",
    "version": 2
   },
   "file_extension": ".py",
   "mimetype": "text/x-python",
   "name": "python",
   "nbconvert_exporter": "python",
   "pygments_lexer": "ipython2",
   "version": "2.7.6"
  }
 },
 "nbformat": 4,
 "nbformat_minor": 0
}
